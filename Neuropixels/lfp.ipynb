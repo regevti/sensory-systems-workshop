{
  "nbformat": 4,
  "nbformat_minor": 0,
  "metadata": {
    "colab": {
      "name": "LFP.ipynb",
      "provenance": [],
      "collapsed_sections": []
    },
    "kernelspec": {
      "display_name": "Python 3",
      "name": "python3"
    },
    "language_info": {
      "name": "python"
    }
  },
  "cells": [
    {
      "cell_type": "markdown",
      "metadata": {
        "id": "5RL3o0eYLOQd"
      },
      "source": [
        "#Local Field Potential"
      ]
    },
    {
      "cell_type": "markdown",
      "metadata": {
        "id": "DpNHjzUjLSE6"
      },
      "source": [
        "Installing the allen institute SDK for reaching the visual coding data.\n",
        "\n",
        "**Notice!** you must restart the kernel after finishing the allensdk installation, due to the change of the pandas version"
      ]
    },
    {
      "cell_type": "code",
      "metadata": {
        "id": "3Q7JzK6tK-f9"
      },
      "source": [
        "!pip install allensdk==2.9.0"
      ],
      "execution_count": null,
      "outputs": []
    },
    {
      "cell_type": "code",
      "metadata": {
        "id": "rXTjwlMuLXh1"
      },
      "source": [
        "import os\n",
        "import shutil\n",
        "import numpy as np\n",
        "import pandas as pd\n",
        "import seaborn as sns\n",
        "import matplotlib.pyplot as plt\n",
        "from allensdk.brain_observatory.ecephys.ecephys_session import EcephysSession\n",
        "from allensdk.brain_observatory.ecephys.ecephys_project_cache import EcephysProjectCache\n",
        "from allensdk.brain_observatory.ecephys.ecephys_project_api.utilities import build_and_execute\n",
        "from allensdk.brain_observatory.ecephys.ecephys_project_api.rma_engine import RmaEngine\n",
        "from allensdk.brain_observatory.ecephys.visualization import plot_mean_waveforms, plot_spike_counts, raster_plot"
      ],
      "execution_count": null,
      "outputs": []
    },
    {
      "cell_type": "markdown",
      "metadata": {
        "id": "eNnnnEmiLbKz"
      },
      "source": [
        "Mount your google drive, so you can save the cache files there and re-use them later. Make sure you have ~3GB free space on your chosen google drive account."
      ]
    },
    {
      "cell_type": "code",
      "metadata": {
        "id": "pekvaCQALg5d"
      },
      "source": [
        "data_directory = '/content/drive/MyDrive/ecephys_cache/' # must be updated to a valid directory in your filesystem\n",
        "manifest_path = os.path.join(data_directory, \"manifest.json\")\n",
        "cache = EcephysProjectCache.from_warehouse(manifest=manifest_path)"
      ],
      "execution_count": null,
      "outputs": []
    },
    {
      "cell_type": "code",
      "metadata": {
        "id": "kdVmbHIkO7d6"
      },
      "source": [
        "session_id = 750749662\n",
        "session = cache.get_session_data(session_id)"
      ],
      "execution_count": null,
      "outputs": []
    },
    {
      "cell_type": "markdown",
      "metadata": {
        "id": "utFsUpM4hn7c"
      },
      "source": [
        "Print the probes of the session along with the areas they recorded from"
      ]
    },
    {
      "cell_type": "code",
      "metadata": {
        "id": "9uTHmHWNRjt8"
      },
      "source": [
        "{session.probes.loc[probe_id].description : \n",
        "     list(session.channels[session.channels.probe_id == probe_id].ecephys_structure_acronym.unique())\n",
        "     for probe_id in session.probes.index.values}"
      ],
      "execution_count": null,
      "outputs": []
    },
    {
      "cell_type": "markdown",
      "metadata": {
        "id": "HTzhW_PRSuDO"
      },
      "source": [
        "##LFP\n",
        "The local field potential is the extracellular current flow that reflects the linearly summed post-synaptic currents from local cell groups."
      ]
    },
    {
      "cell_type": "code",
      "metadata": {
        "id": "a5Tof7jgLl9n"
      },
      "source": [
        "probe_id = session.probes.query('description==\"probeF\"').index.values[0]\n",
        "lfp_sampling_frequency = session.probes.loc[probe_id, 'lfp_sampling_rate']\n",
        "lfp = session.get_lfp(probe_id)"
      ],
      "execution_count": null,
      "outputs": []
    },
    {
      "cell_type": "markdown",
      "metadata": {
        "id": "Kdl7F3Da12ir"
      },
      "source": [
        "###Aligning LFP data to a stimulus\n"
      ]
    },
    {
      "cell_type": "markdown",
      "metadata": {
        "id": "V6wJCL_GRsx7"
      },
      "source": [
        "We'll use the flashes stimulus for showing the changes of LFP by stimulus"
      ]
    },
    {
      "cell_type": "code",
      "metadata": {
        "id": "X4_pC3o5133v"
      },
      "source": [
        "presentation_table = session.stimulus_presentations.query(\"stimulus_name == 'flashes'\")\n",
        "presentation_times = presentation_table.start_time.values\n",
        "presentation_ids = presentation_table.index.values"
      ],
      "execution_count": null,
      "outputs": []
    },
    {
      "cell_type": "code",
      "metadata": {
        "id": "hSgskcHn19oY"
      },
      "source": [
        "trial_window = np.arange(-0.5, 0.5, 1/500)\n",
        "time_selection = np.concatenate([trial_window + t for t in presentation_times])\n",
        "\n",
        "inds = pd.MultiIndex.from_product((presentation_ids, trial_window), \n",
        "                                  names=('presentation_id', 'time_from_presentation_onset'))\n",
        "\n",
        "ds = lfp.sel(time = time_selection, method='nearest').to_dataset(name = 'aligned_lfp')\n",
        "ds = ds.assign(time=inds).unstack('time')\n",
        "\n",
        "aligned_lfp = ds['aligned_lfp']"
      ],
      "execution_count": null,
      "outputs": []
    },
    {
      "cell_type": "code",
      "metadata": {
        "id": "QWd8E-G41_yN"
      },
      "source": [
        "plt.figure(figsize=(8,6))\n",
        "n_channels = len(aligned_lfp.channel)\n",
        "im = plt.imshow(aligned_lfp.mean(dim='presentation_id'), aspect='auto', \n",
        "                origin='lower', vmin=-1e-4, vmax=1e-4, \n",
        "                extent=[trial_window[0], trial_window[-1], 0, n_channels])\n",
        "plt.colorbar(im, fraction=0.036, pad=0.04)\n",
        "channels_idx = np.arange(0, n_channels, 5)\n",
        "plt.yticks(channels_idx, aligned_lfp.channel[channels_idx].values)\n",
        "plt.xlabel('Time after stimulus onset [s]')\n",
        "plt.ylabel('Channel index')\n",
        "plt.show()"
      ],
      "execution_count": null,
      "outputs": []
    },
    {
      "cell_type": "markdown",
      "metadata": {
        "id": "CD4oha_BSJKe"
      },
      "source": [
        "We can see in the above plot that there are some units that fire constantly, regardless of the stimulus presented, let's check their type:"
      ]
    },
    {
      "cell_type": "code",
      "metadata": {
        "id": "o6baHXRv5n-6"
      },
      "source": [
        "session.channels.loc[850165396]"
      ],
      "execution_count": null,
      "outputs": []
    },
    {
      "cell_type": "code",
      "metadata": {
        "id": "UiTtPetW3xlj"
      },
      "source": [
        "aligned_lfp"
      ],
      "execution_count": null,
      "outputs": []
    },
    {
      "cell_type": "markdown",
      "metadata": {
        "id": "PlOaLGWZSbAi"
      },
      "source": [
        "##Brain Oscillations\n",
        "**Delta**: 0.5 - 4Hz - Usually associated with the deep stage 3 of NREM sleep (SWS) or quiet wakefulness. Delta waves are associated with the cortex, however can sometimes be measured in sub-cortical areas like hippocampus, etc.  \n",
        "**Theta**: 4 - 8Hz - Observed in the hippocampus but can also be detected in numerous other cortical and subcortical brain structures. Hippocampal theta waves, with a frequency range of 6–10 Hz, appear when a rat is engaged in active motor behavior such as walking or exploratory sniffing, and also during REM sleep. Theta waves with a lower frequency range, usually around 6–7 Hz, are sometimes observed when a rat is motionless but alert.  \n",
        "**Alpha**: 8 - 12 Hz - arch-shaped alpha frequency oscillations are observed in rat somatosensory cortex, and these have been hypothesized to be analogous to the mu rhythms in EEG.  \n",
        "**Beta**: 15 - 30Hz - Beta states are the states associated with normal waking consciousness. Over the motor cortex beta waves are associated with the muscle contractions that happen in isotonic movements and are suppressed prior to and during movement changes.  \n",
        "**Low Gamma**: 25 - 50 Hz  \n",
        "**High Gamma**: 65 - 140 Hz\n"
      ]
    },
    {
      "cell_type": "markdown",
      "metadata": {
        "id": "-pOoCr2B2RN4"
      },
      "source": [
        "##Pupil Data and Brain States\n",
        "Pupil diameter can be a good estimator for arousel.  \n",
        "Arousal measures accurately predicted multiple modes of membrane potential activity, including rhythmic slow oscillations at low arousal, stable hyperpolarization at intermediate arousal, and depolarization during phasic or tonic periods of hyper-arousal.  \n",
        "   \n",
        "McGinley, M. J., David, S. V., & McCormick, D. A. (2015). Cortical Membrane Potential Signature of Optimal States for Sensory Signal Detection. Neuron, 87(1), 179–192. https://doi.org/10.1016/j.neuron.2015.05.038"
      ]
    },
    {
      "cell_type": "code",
      "metadata": {
        "id": "XM5W6za-ga1K"
      },
      "source": [
        "pupil_data = session.get_pupil_data()\n",
        "pupil_data.index.rename('time', inplace=True)\n",
        "pupil_data.head()"
      ],
      "execution_count": null,
      "outputs": []
    },
    {
      "cell_type": "markdown",
      "metadata": {
        "id": "1OzSbHp7WzOh"
      },
      "source": [
        "###Pupil Simulation"
      ]
    },
    {
      "cell_type": "code",
      "metadata": {
        "id": "1gkSEjotWogz"
      },
      "source": [
        "%%capture\n",
        "from matplotlib import animation\n",
        "from matplotlib.patches import Ellipse\n",
        "\n",
        "def plot_animated_ellipse_fits(pupil_data: pd.DataFrame, start_frame: int, end_frame: int):\n",
        "\n",
        "    start_frame = 0 if (start_frame < 0) else start_frame\n",
        "    end_frame = len(pupil_data) if (end_frame > len(pupil_data)) else end_frame\n",
        "    \n",
        "    frame_times = pupil_data.index.values[start_frame:end_frame]\n",
        "    interval = np.average(np.diff(frame_times)) * 1000\n",
        "\n",
        "    fig = plt.figure()\n",
        "    ax = plt.axes(xlim=(0, 480), ylim=(0, 480))\n",
        "\n",
        "    cr_ellipse = Ellipse((0, 0), width=0.0, height=0.0, angle=0, color='white')\n",
        "    pupil_ellipse = Ellipse((0, 0), width=0.0, height=0.0, angle=0, color='black')\n",
        "    eye_ellipse = Ellipse((0, 0), width=0.0, height=0.0, angle=0, color='grey')\n",
        "\n",
        "    ax.add_patch(eye_ellipse)\n",
        "    ax.add_patch(pupil_ellipse)\n",
        "    ax.add_patch(cr_ellipse)\n",
        "\n",
        "    def update_ellipse(ellipse_patch, ellipse_frame_vals: pd.DataFrame, prefix: str):\n",
        "        ellipse_patch.center = tuple(ellipse_frame_vals[[f\"{prefix}_center_x\", f\"{prefix}_center_y\"]].values)\n",
        "        ellipse_patch.width = ellipse_frame_vals[f\"{prefix}_width\"]\n",
        "        ellipse_patch.height = ellipse_frame_vals[f\"{prefix}_height\"]\n",
        "        ellipse_patch.angle = np.degrees(ellipse_frame_vals[f\"{prefix}_phi\"])\n",
        "    \n",
        "    def init():\n",
        "        return [cr_ellipse, pupil_ellipse, eye_ellipse]\n",
        "\n",
        "    def animate(i):\n",
        "        ellipse_frame_vals = pupil_data.iloc[i]\n",
        "        \n",
        "        update_ellipse(cr_ellipse, ellipse_frame_vals, prefix=\"corneal_reflection\")\n",
        "        update_ellipse(pupil_ellipse, ellipse_frame_vals, prefix=\"pupil\")\n",
        "        update_ellipse(eye_ellipse, ellipse_frame_vals, prefix=\"eye\")\n",
        "        \n",
        "        return [cr_ellipse, pupil_ellipse, eye_ellipse]\n",
        "    \n",
        "    return animation.FuncAnimation(fig, animate, init_func=init, interval=interval, frames=range(start_frame, end_frame), blit=True)\n",
        "\n",
        "anim = plot_animated_ellipse_fits(pupil_data, 100, 600)"
      ],
      "execution_count": null,
      "outputs": []
    },
    {
      "cell_type": "code",
      "metadata": {
        "id": "7GjyE9lwWuim"
      },
      "source": [
        "from IPython.display import HTML\n",
        "\n",
        "HTML(anim.to_jshtml())"
      ],
      "execution_count": null,
      "outputs": []
    },
    {
      "cell_type": "markdown",
      "metadata": {
        "id": "JEebNXNZtFCX"
      },
      "source": [
        "## Gaze Data"
      ]
    },
    {
      "cell_type": "code",
      "metadata": {
        "id": "MvLaQ2vUY67l"
      },
      "source": [
        "gaze_data = session.get_screen_gaze_data()\n",
        "gaze_data.index.rename('time', inplace=True)\n",
        "gaze_data"
      ],
      "execution_count": null,
      "outputs": []
    },
    {
      "cell_type": "markdown",
      "metadata": {
        "id": "K90HkHgltIF4"
      },
      "source": [
        "Plotting the gaze vector on top of the shown natural scene, shows the saccades of the mouse."
      ]
    },
    {
      "cell_type": "code",
      "metadata": {
        "id": "QTxba-cmCU4i"
      },
      "source": [
        "natural_presentations = session.stimulus_presentations.query('stimulus_name==\"natural_scenes\"')\n",
        "pid = 3\n",
        "owl_frame = 58.0\n",
        "image = cache.get_natural_scene_template(owl_frame)\n",
        "plt.figure(figsize=(10, 10))\n",
        "plt.imshow(image, cmap=plt.cm.gray, extent=[20, -30, -20, 10])\n",
        "\n",
        "for pid in natural_presentations.query(f'frame=={owl_frame}').index:\n",
        "  start_time = natural_presentations.start_time.loc[pid]\n",
        "  end_time = natural_presentations.stop_time.loc[pid]\n",
        "  gaze_data1 = gaze_data.query(f'time>={start_time} and time<={stop_time}')\n",
        "  plt.plot(gaze_data1.raw_screen_coordinates_x_cm, gaze_data1.raw_screen_coordinates_y_cm)"
      ],
      "execution_count": null,
      "outputs": []
    },
    {
      "cell_type": "markdown",
      "metadata": {
        "id": "fRWXjhq2tR49"
      },
      "source": [
        "### Signal Processing Function"
      ]
    },
    {
      "cell_type": "code",
      "metadata": {
        "id": "Wtpw3m95FuXV"
      },
      "source": [
        "from scipy.signal import butter, lfilter\n",
        "\n",
        "\n",
        "def butter_bandpass(lowcut, highcut, fs, order=5):\n",
        "    nyq = 0.5 * fs\n",
        "    low = lowcut / nyq\n",
        "    high = highcut / nyq\n",
        "    b, a = butter(order, [low, high], btype='band')\n",
        "    return b, a\n",
        "\n",
        "\n",
        "def butter_bandpass_filter(data, lowcut, highcut, fs, order=5):\n",
        "    b, a = butter_bandpass(lowcut, highcut, fs, order=order)\n",
        "    y = lfilter(b, a, data)\n",
        "    return y\n",
        "\n",
        "def window_rms(a, window_size):\n",
        "  a2 = np.power(a, 2)\n",
        "  window = np.ones(window_size)/float(window_size)\n",
        "  return np.sqrt(np.convolve(a2, window, 'same'))"
      ],
      "execution_count": null,
      "outputs": []
    },
    {
      "cell_type": "markdown",
      "metadata": {
        "id": "h0rLn63btV9f"
      },
      "source": [
        "For the following calculation we'll use a segment of time start from the last presentation of the owl and ended 50 seconds after."
      ]
    },
    {
      "cell_type": "code",
      "metadata": {
        "id": "tu8Ar3PuqkRG"
      },
      "source": [
        "end_time = start_time + 50"
      ],
      "execution_count": null,
      "outputs": []
    },
    {
      "cell_type": "markdown",
      "metadata": {
        "id": "I7K3j5OCtiii"
      },
      "source": [
        "Extracting the LFP data from one of the channels in the vicinity of CA1"
      ]
    },
    {
      "cell_type": "code",
      "metadata": {
        "id": "M0Mu9L64GKX1"
      },
      "source": [
        "lfp_data = lfp.sel(time = slice(start_time, end_time))\n",
        "channel_id = 850165396  # CA1\n",
        "lfp_data = lfp_data.sel(channel=channel_id, method='nearest')\n",
        "lfp_sampling_frequency = session.probes.loc[probe_id, 'lfp_sampling_rate']"
      ],
      "execution_count": null,
      "outputs": []
    },
    {
      "cell_type": "markdown",
      "metadata": {
        "id": "s-rGlPdMtyVJ"
      },
      "source": [
        "Same for the pupil width"
      ]
    },
    {
      "cell_type": "code",
      "metadata": {
        "id": "b0f6nb34otCB"
      },
      "source": [
        "pupil_width = pupil_data.query(f'time>={start_time} and time<={end_time}').pupil_width"
      ],
      "execution_count": null,
      "outputs": []
    },
    {
      "cell_type": "markdown",
      "metadata": {
        "id": "xdMRTngjt2qJ"
      },
      "source": [
        "Getting the Delta and Theta waves for the above metioned time segment and plotting them alongside the pupil diameter."
      ]
    },
    {
      "cell_type": "code",
      "metadata": {
        "id": "BYEM_DlWDwGk"
      },
      "source": [
        "waves = {\n",
        "  'delta': butter_bandpass_filter(lfp_data, 0.5, 4, lfp_sampling_frequency, order=3),\n",
        "  'theta': butter_bandpass_filter(lfp_data, 6, 10, lfp_sampling_frequency, order=3)\n",
        "}\n",
        "\n",
        "fig, axes = plt.subplots(3,1,figsize=(20, 3*3))\n",
        "axes[0].plot(pupil_width.index, pupil_width.values)\n",
        "axes[0].set_title('Pupil Diameter')\n",
        "for i, (wave_name, sig) in enumerate(waves.items()):\n",
        "  axes[i+1].plot(lfp_data.time, sig)\n",
        "  axes[i+1].set_title(wave_name)\n",
        "\n",
        "fig.tight_layout()"
      ],
      "execution_count": null,
      "outputs": []
    },
    {
      "cell_type": "markdown",
      "metadata": {
        "id": "TJJUYBX4uXJv"
      },
      "source": [
        "Calculating the correlation of the pupil diameter with brain waves RMS"
      ]
    },
    {
      "cell_type": "code",
      "metadata": {
        "id": "xoCcqGGuptHY"
      },
      "source": [
        "window_size = int(0.5 * lfp_sampling_frequency)\n",
        "\n",
        "for wave_name, sig in waves.items():\n",
        "  x_rms = window_rms(sig, window_size)\n",
        "  v = np.interp(pupil_width.index, lfp_data.time.values, x_rms)\n",
        "  x = np.vstack([pupil_width.values, v])\n",
        "  cor = np.corrcoef(x)\n",
        "  print(f'Correlation for {wave_name}: {cor[0,1]:.2f}')"
      ],
      "execution_count": null,
      "outputs": []
    },
    {
      "cell_type": "code",
      "metadata": {
        "id": "3YZM9uUiqMrf"
      },
      "source": [
        ""
      ],
      "execution_count": null,
      "outputs": []
    }
  ]
}