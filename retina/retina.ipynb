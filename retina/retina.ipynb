{
  "nbformat": 4,
  "nbformat_minor": 0,
  "metadata": {
    "colab": {
      "name": "retina.ipynb",
      "provenance": [],
      "collapsed_sections": []
    },
    "kernelspec": {
      "name": "python3",
      "display_name": "Python 3"
    }
  },
  "cells": [
    {
      "cell_type": "code",
      "metadata": {
        "id": "do7wHFwZEZI3"
      },
      "source": [
        "import pandas as pd\n",
        "import numpy as np\n",
        "import matplotlib.pyplot as plt"
      ],
      "execution_count": null,
      "outputs": []
    },
    {
      "cell_type": "markdown",
      "metadata": {
        "id": "rkhznCzEFDb1"
      },
      "source": [
        "## Loading the data"
      ]
    },
    {
      "cell_type": "code",
      "metadata": {
        "id": "V6Yd9DXBH5Mo"
      },
      "source": [
        "data_url = 'https://raw.githubusercontent.com/regevti/sensory-systems-workshop/master/retina/retina_data.pkl'\n",
        "data = pd.read_pickle(data_url)"
      ],
      "execution_count": null,
      "outputs": []
    },
    {
      "cell_type": "markdown",
      "metadata": {
        "id": "v5J0S5L1E6kD"
      },
      "source": [
        "## Data Exploration"
      ]
    },
    {
      "cell_type": "code",
      "metadata": {
        "id": "55wPZNuTGqro"
      },
      "source": [
        "data['info']"
      ],
      "execution_count": null,
      "outputs": []
    },
    {
      "cell_type": "code",
      "metadata": {
        "id": "JS_1xVW8G850"
      },
      "source": [
        "data['stimulus']"
      ],
      "execution_count": null,
      "outputs": []
    },
    {
      "cell_type": "code",
      "metadata": {
        "id": "dry8ZDJnEzt-"
      },
      "source": [
        "rec_id = 0 # recording ID\n",
        "spikes = data['spikes'][:, rec_id]\n",
        "start_time = data['stimulus'].loc[rec_id, 'onset']"
      ],
      "execution_count": null,
      "outputs": []
    },
    {
      "cell_type": "markdown",
      "metadata": {
        "id": "X-3UQ8Sg95t9"
      },
      "source": [
        "##Exercises\n",
        "\n",
        "1. Create a variable \"frame_dt\" and store in it the time duration of a single frame in the first record.\n"
      ]
    },
    {
      "cell_type": "code",
      "metadata": {
        "id": "DtIrsduz_QhY"
      },
      "source": [
        "frame_dt = data['stimulus'].loc[rec_id, 'frame']"
      ],
      "execution_count": null,
      "outputs": []
    },
    {
      "cell_type": "markdown",
      "metadata": {
        "id": "UQba31Qb-T5q"
      },
      "source": [
        "2. Create a variable \"n_frames\" and store in it the number of frames shown in the first record\n",
        "\n",
        "\n"
      ]
    },
    {
      "cell_type": "code",
      "metadata": {
        "id": "yCWkd0c6-N_D"
      },
      "source": [
        "n_frames = data['stimulus'].loc[rec_id, 'Nframes']"
      ],
      "execution_count": null,
      "outputs": []
    },
    {
      "cell_type": "markdown",
      "metadata": {
        "id": "RMM_UAim-rzl"
      },
      "source": [
        "3. Create a variable called \"rec_duration\" and store in it the calculated duration of the 1st record."
      ]
    },
    {
      "cell_type": "code",
      "metadata": {
        "id": "wtmJAaW8-4v3"
      },
      "source": [
        "rec_duration = frame_dt * n_frames"
      ],
      "execution_count": null,
      "outputs": []
    },
    {
      "cell_type": "markdown",
      "metadata": {
        "id": "F4Q2UvbqAHs_"
      },
      "source": [
        "4. Which neuron fired the most during the 1st record?"
      ]
    },
    {
      "cell_type": "code",
      "metadata": {
        "id": "CWKnX2I5AV3-"
      },
      "source": [
        "# your code goes here"
      ],
      "execution_count": null,
      "outputs": []
    },
    {
      "cell_type": "markdown",
      "metadata": {
        "id": "d4Hs3TrD-8ti"
      },
      "source": [
        "##Raster Plot\n",
        "\n",
        "> There are 2 ways for plotting the raster plot:\n",
        "1. creating an image with pixels as spikes and showing it using plt.imshow()\n",
        "2. scatter plot\n"
      ]
    },
    {
      "cell_type": "code",
      "metadata": {
        "id": "mwNz8WbPFa7y"
      },
      "source": [
        "# raster plotting using plt.imshow()\n",
        "\n",
        "end_time = start_time + 10\n",
        "raster = []\n",
        "for neuron in spikes:\n",
        "  bins = np.arange(start_time, end_time, 0.01)\n",
        "  hist, bins = np.histogram(neuron, bins=bins, range=(start_time, end_time))\n",
        "  raster.append(hist)\n",
        "\n",
        "raster = np.vstack(raster)\n",
        "plt.figure(figsize=(20, 7))\n",
        "plt.imshow(raster, aspect='auto', cmap='Greys', interpolation='none')\n",
        "plt.xlabel('time [sec]')\n",
        "plt.ylabel('Ganglion #')\n",
        "plt.title(f'Raster Plot for Record {rec_id + 1}')\n",
        "plt.show()"
      ],
      "execution_count": null,
      "outputs": []
    },
    {
      "cell_type": "code",
      "metadata": {
        "id": "NIZSNT2cMItB"
      },
      "source": [
        "# raster plot using scatter plot\n",
        "\n",
        "plt.figure(figsize=(20,7))\n",
        "for neuron_id, neuron_spike_times in enumerate(spikes):\n",
        "  plt.scatter(neuron_spike_times, neuron_id * np.ones(neuron_spike_times.shape), c='black', s=0.1)\n",
        "\n",
        "plt.xlim([0, end_time])\n",
        "plt.xlabel('time [sec]')\n",
        "plt.ylabel('Ganglion #')\n",
        "plt.title(f'Raster Plot for Record {rec_id + 1}')\n",
        "plt.show()"
      ],
      "execution_count": null,
      "outputs": []
    },
    {
      "cell_type": "markdown",
      "metadata": {
        "id": "lZacBVJaQmcD"
      },
      "source": [
        "## Spike Triggered Average"
      ]
    },
    {
      "cell_type": "code",
      "metadata": {
        "id": "OG4GGePXI2nU"
      },
      "source": [
        "!wget https://raw.githubusercontent.com/regevti/sensory-systems-workshop/master/retina/ran1.bin"
      ],
      "execution_count": null,
      "outputs": []
    },
    {
      "cell_type": "markdown",
      "metadata": {
        "id": "QzFOVipvBXXn"
      },
      "source": [
        "###Reading the Stimulus"
      ]
    },
    {
      "cell_type": "code",
      "metadata": {
        "id": "fYnYnd7c5jJf"
      },
      "source": [
        "# calculate number of squares/bars along each axis\n",
        "nx = int(data['stimulus'].loc[rec_id, 'x'] / data['stimulus'].loc[rec_id, 'dx'])\n",
        "ny = int(data['stimulus'].loc[rec_id, 'y'] / data['stimulus'].loc[rec_id, 'dy'])\n",
        "\n",
        "# number of squares/bars in a single frame\n",
        "frame_squares = nx * ny\n",
        "\n",
        "total_squares = frame_squares * n_frames\n",
        "\n",
        "\n",
        "def bytes_to_bits(byts):\n",
        "  \"\"\"Helper function for converting bytes array to bits (format *ubit1)\"\"\"\n",
        "  b = np.unpackbits(byts)\n",
        "  c = np.reshape(b, (int(b.size / 8), 8))  # reshape  bits array to bytes array\n",
        "  d = np.flip(c, 1)  # flip each byte\n",
        "  e = np.reshape(d, d.size)  # reshape bytes array to bits array\n",
        "  e.dtype = np.int8  # change returned array dtype uint8 --> int8\n",
        "  return e\n",
        "\n",
        "\n",
        "def read_stimulus(filename):\n",
        "  # read the amount of squares needed for the record\n",
        "  rand_bytes = np.fromfile(filename, dtype='uint8', count=int(total_squares/8))\n",
        "  r = bytes_to_bits(rand_bytes)\n",
        "\n",
        "  # convert [0, 1] values to [-1, 1]\n",
        "  r = 2 * r - 1\n",
        "\n",
        "  # reshaping the array, such that each column represents a frame that was displayed to the retina.\n",
        "  r = r.reshape((n_frames, frame_squares)).T\n",
        "  print(f'stimulus shape: {r.shape}')\n",
        "  return r\n",
        "\n",
        "\n",
        "rand_stim = read_stimulus('/content/ran1.bin')"
      ],
      "execution_count": null,
      "outputs": []
    },
    {
      "cell_type": "markdown",
      "metadata": {
        "id": "QJsu89l8BtKc"
      },
      "source": [
        "###Stimulus Example"
      ]
    },
    {
      "cell_type": "code",
      "metadata": {
        "id": "xJTPBC3A8JRM"
      },
      "source": [
        "fig, axes = plt.subplots(1, 4, figsize=(4*5, 5))\n",
        "for i, ax in enumerate(axes):\n",
        "  ax.imshow(rand_stim[:,i].reshape(nx, ny).T, aspect='auto', cmap='Greys', interpolation='none')"
      ],
      "execution_count": null,
      "outputs": []
    },
    {
      "cell_type": "markdown",
      "metadata": {
        "id": "GeKUZJyCByJB"
      },
      "source": [
        "###Spike Triggered Average - Single Ganglion"
      ]
    },
    {
      "cell_type": "code",
      "metadata": {
        "id": "8g9nQ-By_MfX"
      },
      "source": [
        "# parameters initialization\n",
        "\n",
        "window_length = 0.5 # seconds\n",
        "window_n_frames = int(np.round(window_length / frame_dt))\n",
        "\n",
        "# calculate the space vectors in mm\n",
        "dx , dy = int(data['stimulus'].loc[rec_id, 'dx']), int(data['stimulus'].loc[rec_id, 'dy'])\n",
        "pixel_size = int(data['stimulus'].loc[rec_id, 'pixelsize']) / 1000 # mm\n",
        "sx = np.arange(0, nx) * dx * pixel_size\n",
        "sy = np.arange(0, ny) * dy * pixel_size\n",
        "\n",
        "# calculate the time vector for STA\n",
        "t = np.arange(-window_n_frames, 0) * frame_dt"
      ],
      "execution_count": null,
      "outputs": []
    },
    {
      "cell_type": "code",
      "metadata": {
        "id": "SbSXvtuu_Xtd"
      },
      "source": [
        "def spike_triggered_average(gang_id):\n",
        "  \"\"\"Calculate the STA matrix for a given ganglion.\n",
        "  Output Matrix shape: [squares, window_frames]\"\"\"\n",
        "  gang_spikes = spikes[gang_id]\n",
        "  # create the bins vector. Each bin represent the time range of a frame\n",
        "  stim_frames_time = np.arange(0, n_frames) * frame_dt + start_time\n",
        "  # histogram for spikes during each frame\n",
        "  spikes_frames, bins = np.histogram(gang_spikes, bins=stim_frames_time)\n",
        "  # delete the data from the first window, since we have no information of what \n",
        "  # was projected to the ganglion cells before the stimulus onset\n",
        "  spikes_frames[:window_n_frames] = 0\n",
        "  # Find the events (frames during which the neuron fired)\n",
        "  event_idx = np.where(spikes_frames > 0)[0]\n",
        "\n",
        "  sta = np.zeros((frame_squares, window_n_frames))\n",
        "  # Find the indices of the time window preceding the event\n",
        "  for evi in event_idx:\n",
        "    widx = np.arange(evi - window_n_frames, evi)\n",
        "    sta = sta + rand_stim[:, widx]\n",
        "\n",
        "  # normalizing the results\n",
        "  sta = sta / len(event_idx)\n",
        "  return sta\n",
        "\n",
        "\n",
        "def plot_spatio_temporal(gang_id, ax=None):\n",
        "  \"\"\"Plot the spatio-temporal STA for a ganglion before strike\"\"\"\n",
        "  sta = spike_triggered_average(gang_id)\n",
        "  if ax is None:\n",
        "    fig, ax = plt.subplots(1, 1, figsize=(4, 4))\n",
        "\n",
        "  ax.imshow(sta, cmap='gray', aspect=t.size/sx.size, \n",
        "            extent=[t[0], t[-1], sx[0], sx[-1]])\n",
        "  ax.set_xlabel('Time before spike [sec]')\n",
        "  ax.set_ylabel('space [mm]')\n",
        "  ax.set_title(f'Ganglion #{gang_id+1}')"
      ],
      "execution_count": null,
      "outputs": []
    },
    {
      "cell_type": "code",
      "metadata": {
        "id": "HDr62xj9ZzkD"
      },
      "source": [
        "sta0 = spike_triggered_average(1)\n",
        "sta0.shape"
      ],
      "execution_count": null,
      "outputs": []
    },
    {
      "cell_type": "code",
      "metadata": {
        "id": "W1cPuaWxmLYI"
      },
      "source": [
        "# spatio-temporal plot\n",
        "plot_spatio_temporal(0)"
      ],
      "execution_count": null,
      "outputs": []
    },
    {
      "cell_type": "code",
      "metadata": {
        "id": "e1jUXLM0hcis"
      },
      "source": [
        "# spatio-temporal plot\n",
        "plot_spatio_temporal(1)"
      ],
      "execution_count": null,
      "outputs": []
    },
    {
      "cell_type": "code",
      "metadata": {
        "id": "4EME-vHgmEUQ"
      },
      "source": [
        "# All ganglions\n",
        "n_ganglions = data['info']['Ncell']\n",
        "cols = 6\n",
        "rows = int(np.ceil(n_ganglions/cols))\n",
        "fig, axes = plt.subplots(rows, cols, figsize=(20, 3*rows))\n",
        "axes = axes.flatten()\n",
        "for i in range(n_ganglions):\n",
        "  plot_spatio_temporal(i, axes[i])  \n",
        "fig.tight_layout()"
      ],
      "execution_count": null,
      "outputs": []
    },
    {
      "cell_type": "code",
      "metadata": {
        "id": "x_KB1oEX1JHr"
      },
      "source": [
        ""
      ],
      "execution_count": null,
      "outputs": []
    }
  ]
}